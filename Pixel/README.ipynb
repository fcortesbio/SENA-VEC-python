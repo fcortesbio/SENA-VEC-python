{
 "cells": [
  {
   "cell_type": "markdown",
   "metadata": {},
   "source": [
    "# **Pixel Gun Apocalyse**\n",
    "\n",
    "## What are the rules?\n",
    "\n",
    "This project is a simulation of a shooting game, where 2 teams fight each other; \n",
    "Guns are biased so players can only shoot upwards hoping to inflict damage on their opponents luckily. \n",
    "A character from the following list represents each of the available guns: \n",
    "\n",
    "` weapons = [\".\", \"-\", \"+\", \"*\", \"T\", \"Y\", \"|\", \"W\", \"X\", \"M\"]`\n",
    "\n",
    "Every team chooses a list of possible guns to use during the game. An internal game clock determines a list of the weapons that will be effective in inflicting damage to the rival team at every moment through the game. If a gun used by a team matches with the effective gun given the clock selection at a time, the team scores a point. The score must be reported after each turn. \n",
    "\n",
    "The following notation is used to represent the state of the game at a given moment: `F` if team 1 is ahead, `V` if team 2 is ahead, and the character `≈` if there’s a tie. I must build an algorithm that gathers the selection of weapons for each team, gathers a list of weapons for the clock, and prints the state of the match at each moment.\n",
    "\n",
    "Here's a list of examples for the expected inputs and outputs: \n",
    "\n",
    "| **Input**                                                       | **Expected output**              |\n",
    "|-----------------------------------------------------------------|----------------------------------|\n",
    "| `+XMY*\\|`<br>`+XWY.-`<br>`WWX.-.+M-M\\|\\|+..+XM\\|XM`             | `FFFFFFFFFFFFFFFFFFFFF`          |\n",
    "| `+Y.X-\\|`<br>`WMT*\\|-`<br>`\\|*Y+-*\\|-\\|Y-X\\|+\\|YM-*T+-X-**W-XY` | `≈F≈VV≈≈≈≈VVVVVVVVVVVVVVVVV≈≈VV` |\n",
    "| `MX.+T`<br>`+TX-W`<br>`M-+.\\|M*++*Y-W+\\|M-\\|YXW.`               | `V≈≈VVVVVVVVV≈≈≈V≈≈≈≈F≈`         |\n",
    "| `MX.+T`<br>`+TX-W`<br>`M-+.\\|M*++*Y-W+\\|M-\\|YXW.`               | `V≈≈VVVVVVVVV≈≈≈V≈≈≈≈F≈`         |\n",
    "| `*W+\\|.`<br>`-+TXY`<br>`XW*\\|M+T*YXW+X*.+MW*\\|`                 | `F≈VVVVVVV≈VV≈VVVVVVV`           |\n",
    "\n",
    "\n",
    "I also aim to deploy input validation to ensure the inputs met criteria to avoid the game breaks;\n",
    "\n",
    "I see in this project an opportunity to learn the basics of unit testing and Test Driven development, so before starting the actual project, my desire is to build a set of test units with the `unittest` library.\n",
    "\n",
    "main.py will contain a collection of functions and the logic of the program; while this document has the set of rules, and the step by step of my testing units.  \n"
   ]
  },
  {
   "cell_type": "markdown",
   "metadata": {},
   "source": [
    "## The logic of the program: \n",
    "\n",
    "Using the divide and conquer strategy, I will set apart a series of small tasks and design test for each one.\n",
    "\n",
    "`legal_select()` will validates if all characters belong to our list of `weapons`; this validation will be used for input validation in other functions ; the test must validate if when using different characters the test fails; \n",
    "\n",
    "\n",
    "\n",
    "\n",
    "`get_weapon()` will input, store, validate and return a string, representing a selection of weapons. I want to set a team-limit of 6 weapons, given the fact that all examples uses exactly 6 weapons per team. legal_select() is used for input validation of legal characters; \n",
    "\n",
    "The test must check if the string returned is 6 characters long, and that all characters are legal; \n",
    "\n",
    "\n",
    "`input_clock()`will input a list of strings representing the weapons that are affective through the game progress. Use legal_select for input validation; Test will simply ensure that the input contains only legal characters and that the input string is returned; \n",
    "\n",
    "\n",
    "`rand_clock(n)` generates a list of random $n$ characters (seed: 1997) from the clock list of `weapons` list, representing the weapons that are effective through the game progress. How can I design a test for this?\n",
    "\n",
    "`game_state(a, b)` makes comparisons between each team scores returning a character as follows: \"F\" if team 1 score is higher, \"V\" if team 2 is higher, or \"≈\" if both scores are equal. \n",
    "\n",
    "`match(mode = None)` iterates through a list of characters (user defined or random) and generates a report scoring changes following this path:\n",
    "\n",
    "* define 2 variables team1_score, and team2_score, representing each team score values, both starting at 0; \n",
    "\n",
    "* define an empty string intended to store our 'output'\n",
    "\n",
    "* input and store a string 'team1' using get_weapon()\n",
    "\n",
    "* input and store a string 'team2' using get_weapon()\n",
    "\n",
    "* stores a string 'clock' using input_clock(), or rand_clock() only  if argument mode is specified as \"random\"\n",
    "\n",
    "* make a list 'clock_list' containing all characters in 'clock'\n",
    "\n",
    "* Iterates using a for loop for each character in clock_list:\n",
    "    \n",
    "    * if the character evaluated is present in 'team1', increment one unit to team1_score; \n",
    "\n",
    "    * if the character evaluated is present in 'team2', increment one unit to team2_score\n",
    "\n",
    "    * after each iteration check the current game state using game_state(); \n",
    "\n",
    "    * finally, use the .join() method to insert the current_state() return value to the end of the 'outcome' string; \n"
   ]
  },
  {
   "cell_type": "code",
   "execution_count": null,
   "metadata": {},
   "outputs": [],
   "source": [
    "import unittest\n",
    "from main import legal_select, get_weapon, rand_clock, input_clock, game_state, main"
   ]
  },
  {
   "cell_type": "markdown",
   "metadata": {},
   "source": [
    "## Let's start testing:"
   ]
  },
  {
   "cell_type": "markdown",
   "metadata": {},
   "source": [
    "`legal_select()` Function:\n",
    "\n",
    "Test Case 1: Check if all legal characters pass validation.\n",
    "\n",
    "Test Case 2: Test with illegal characters and ensure it fails validation."
   ]
  },
  {
   "cell_type": "code",
   "execution_count": 11,
   "metadata": {},
   "outputs": [],
   "source": [
    "class TestLegalSelect(unittest.TestCase):\n",
    "    def test_legal_characters(self):\n",
    "        self.assertTrue(legal_select(\".-+*TY|WXM\"))\n",
    "\n",
    "    def test_illegal_characters(self):\n",
    "        self.assertFalse(legal_select(\"ABC123\"))"
   ]
  },
  {
   "cell_type": "markdown",
   "metadata": {},
   "source": [
    "`get_weapon()` testing:\n",
    "\n",
    "Test Case 1: Check if returned string is 6 characters long and contains legal characters."
   ]
  },
  {
   "cell_type": "code",
   "execution_count": null,
   "metadata": {},
   "outputs": [],
   "source": [
    "class TestGetWeapon(unittest.TestCase):\n",
    "    def test_valid_weapon_selection(self):\n",
    "        weapons = get_weapon()\n",
    "        self.assertEqual(len(weapons), 6)\n",
    "        self.assertTrue(legal_select(weapons))"
   ]
  },
  {
   "cell_type": "markdown",
   "metadata": {},
   "source": [
    "`input_clock()` testing:\n",
    "\n",
    "Test Case 1: Test with a valid input containing only legal characters.\n",
    "\n",
    "Test Case 2: Test with invalid characters."
   ]
  },
  {
   "cell_type": "code",
   "execution_count": null,
   "metadata": {},
   "outputs": [],
   "source": [
    "class TestInputClock(unittest.TestCase):\n",
    "    def test_valid_input(self):\n",
    "        self.assertTrue(input_clock(\"+-*TY|WX\"))\n",
    "\n",
    "    def test_invalid_input(self):\n",
    "        self.assertFalse(input_clock(\"ABC123\"))"
   ]
  },
  {
   "cell_type": "markdown",
   "metadata": {},
   "source": [
    "`rand_clock(n)` Function:\n",
    "\n",
    "Testing a function that generates random output can be a bit tricky as the output is unpredictable. However, we can test whether the output has the correct length and contains only legal characters."
   ]
  },
  {
   "cell_type": "code",
   "execution_count": null,
   "metadata": {},
   "outputs": [],
   "source": [
    "class TestRandClock(unittest.TestCase):\n",
    "    def test_random_clock(self):\n",
    "        clock = rand_clock(10)  # Generating 10 random characters\n",
    "        self.assertEqual(len(clock), 10)\n",
    "        self.assertTrue(legal_select(clock))"
   ]
  },
  {
   "cell_type": "markdown",
   "metadata": {},
   "source": [
    "`game_state(a, b)` Function:\n",
    "\n",
    "Test Case 1: Test when team 1 has a higher score.\n",
    "\n",
    "Test Case 2: Test when team 2 has a higher score.\n",
    "\n",
    "Test Case 3: Test when both teams have equal scores."
   ]
  },
  {
   "cell_type": "code",
   "execution_count": null,
   "metadata": {},
   "outputs": [],
   "source": [
    "class TestGameState(unittest.TestCase):\n",
    "    def test_team1_higher_score(self):\n",
    "        self.assertEqual(game_state(5, 3), \"F\")\n",
    "\n",
    "    def test_team2_higher_score(self):\n",
    "        self.assertEqual(game_state(2, 5), \"V\")\n",
    "\n",
    "    def test_equal_scores(self):\n",
    "        self.assertEqual(game_state(4, 4), \"≈\")"
   ]
  },
  {
   "cell_type": "markdown",
   "metadata": {},
   "source": [
    "### Let's run our test modules"
   ]
  },
  {
   "cell_type": "code",
   "execution_count": 12,
   "metadata": {},
   "outputs": [
    {
     "name": "stderr",
     "output_type": "stream",
     "text": [
      "test_valid_weapon_selection (__main__.TestGetWeapon.test_valid_weapon_selection) ... ERROR\n",
      "test_invalid_input (__main__.TestInputClock.test_invalid_input) ... ERROR\n",
      "test_valid_input (__main__.TestInputClock.test_valid_input) ... ERROR\n",
      "test_illegal_characters (__main__.TestLegalSelect.test_illegal_characters) ... ok\n",
      "test_legal_characters (__main__.TestLegalSelect.test_legal_characters) ... ok\n",
      "test_random_clock (__main__.TestRandClock.test_random_clock) ... ok\n",
      "\n",
      "======================================================================\n",
      "ERROR: test_valid_weapon_selection (__main__.TestGetWeapon.test_valid_weapon_selection)\n",
      "----------------------------------------------------------------------\n",
      "Traceback (most recent call last):\n",
      "  File \"/tmp/ipykernel_3051/1393767589.py\", line 3, in test_valid_weapon_selection\n",
      "    weapons = get_weapon()\n",
      "              ^^^^^^^^^^^^\n",
      "TypeError: get_weapon() missing 1 required positional argument: 'team'\n",
      "\n",
      "======================================================================\n",
      "ERROR: test_invalid_input (__main__.TestInputClock.test_invalid_input)\n",
      "----------------------------------------------------------------------\n",
      "Traceback (most recent call last):\n",
      "  File \"/tmp/ipykernel_3051/534834197.py\", line 6, in test_invalid_input\n",
      "    self.assertFalse(input_clock(\"ABC123\"))\n",
      "                     ^^^^^^^^^^^^^^^^^^^^^\n",
      "TypeError: input_clock() takes 0 positional arguments but 1 was given\n",
      "\n",
      "======================================================================\n",
      "ERROR: test_valid_input (__main__.TestInputClock.test_valid_input)\n",
      "----------------------------------------------------------------------\n",
      "Traceback (most recent call last):\n",
      "  File \"/tmp/ipykernel_3051/534834197.py\", line 3, in test_valid_input\n",
      "    self.assertTrue(input_clock(\"+-*TY|WX\"))\n",
      "                    ^^^^^^^^^^^^^^^^^^^^^^^\n",
      "TypeError: input_clock() takes 0 positional arguments but 1 was given\n",
      "\n",
      "----------------------------------------------------------------------\n",
      "Ran 6 tests in 0.011s\n",
      "\n",
      "FAILED (errors=3)\n"
     ]
    },
    {
     "data": {
      "text/plain": [
       "<unittest.main.TestProgram at 0x7f20e04a5490>"
      ]
     },
     "execution_count": 12,
     "metadata": {},
     "output_type": "execute_result"
    }
   ],
   "source": [
    "unittest.main(argv=[''], verbosity=2, exit=False)"
   ]
  }
 ],
 "metadata": {
  "kernelspec": {
   "display_name": "pixel",
   "language": "python",
   "name": "python3"
  },
  "language_info": {
   "codemirror_mode": {
    "name": "ipython",
    "version": 3
   },
   "file_extension": ".py",
   "mimetype": "text/x-python",
   "name": "python",
   "nbconvert_exporter": "python",
   "pygments_lexer": "ipython3",
   "version": "3.12.2"
  }
 },
 "nbformat": 4,
 "nbformat_minor": 2
}
