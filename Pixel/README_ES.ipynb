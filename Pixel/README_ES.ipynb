{
 "cells": [
  {
   "cell_type": "markdown",
   "metadata": {},
   "source": [
    "# **Pixel Gun Apocalyse**\n",
    "\n",
    "## ¿Cuáles son las reglas?\n",
    "\n",
    "Este proyecto es una simulación de un juego de disparos, donde 2 equipos se enfrentan entre si; \n",
    "Las armas están sesgadas, por lo que los jugadores solo pueden disparar hacia arriba con la esperanza de, con suerte, infligir daño a sus oponentes. Los caracteres de la siguiente lista representan cada una de las armas disponibles:\n",
    "\n",
    "` weapons = [\".\", \"-\", \"+\", \"*\", \"T\", \"Y\", \"|\", \"W\", \"X\", \"M\"]`\n",
    "\n",
    "Cada equipo eligirá una lista de posibles armas a usar durante el juego. Un reloj interno determinará una sola arma que será efectiva al infligir daño contra el equipo rival en cada momento del juego. Si un arma entre las seleccionadas por un equipo coincide con el arma efectiva de acuerdo con el reloj, el equipo anotará un punto. El puntaje se reporta y almacena luego de cada turno a lo largo del juego.\n",
    "\n",
    "La siguiente notación es usada para representar el estado del juego en un momento dado: `F` si el equipo 1 está por delante, `V` si el equipo 2 está por delante, y el caracter `≈` si hay un empate. Mi tarea es construir un algoritmo que reciba la selección de armas de cada equipo, y una lista de las armas del reloj, e imprima el estado actual del juego en cada turno. \n",
    "\n",
    "Esta es una lista de las entradas y el resultado esperados: \n",
    "\n",
    "| **Input**                                                       | **Expected output**              |\n",
    "|-----------------------------------------------------------------|----------------------------------|\n",
    "| `+XMY*\\|`<br>`+XWY.-`<br>`WWX.-.+M-M\\|\\|+..+XM\\|XM`             | `FFFFFFFFFFFFFFFFFFFFF`          |\n",
    "| `+Y.X-\\|`<br>`WMT*\\|-`<br>`\\|*Y+-*\\|-\\|Y-X\\|+\\|YM-*T+-X-**W-XY` | `≈F≈VV≈≈≈≈VVVVVVVVVVVVVVVVV≈≈VV` |\n",
    "| `MX.+T`<br>`+TX-W`<br>`M-+.\\|M*++*Y-W+\\|M-\\|YXW.`               | `V≈≈VVVVVVVVV≈≈≈V≈≈≈≈F≈`         |\n",
    "| `MX.+T`<br>`+TX-W`<br>`M-+.\\|M*++*Y-W+\\|M-\\|YXW.`               | `V≈≈VVVVVVVVV≈≈≈V≈≈≈≈F≈`         |\n",
    "| `*W+\\|.`<br>`-+TXY`<br>`XW*\\|M+T*YXW+X*.+MW*\\|`                 | `F≈VVVVVVV≈VV≈VVVVVVV`           |\n",
    "\n",
    "\n",
    "También quiero implementar un método de validación de entrada para evitar que el programa falle; \n",
    "\n",
    "Este proyecto es también una oportunidad para aprender las bases de pruebas unitarias y desarrollo impulsado por pruebas (TDD), por lo que antes de empezar a crear el programa, me gustaría diseñar una serie de pruebas unitarias para las funciones del programa utilizando la librería incorporada `unittest`.\n",
    "\n",
    "`main.py` es el código fuente que contiene la lógica del programa. Las pruebas unitarias estan en `test_main.py`.\n",
    "\n"
   ]
  },
  {
   "cell_type": "markdown",
   "metadata": {},
   "source": [
    "## **La lógica del programa**: \n",
    "\n",
    "Siguiendo el principio de dividir y vencer (*divide and conquer*), las tareas del programa se dividirán las siguientes funciones:\n",
    "\n",
    "`legal_select()` verifica que todos los caracteres en una cadena pertenezcan a la lista `weapons`; \n",
    "\n",
    "`get_weapon()` ingresa, valida y almacena una cadena de texto, que representa una selección de armas. \n",
    "\n",
    "\n",
    "* Dado que todos los ejemplos usan exactamente 6 armas por equipo, la función establece un límite de 6 armas por equipo en cada input. Esta función usa `legal_select()` para la validación de entrada de caracteres legales\n",
    "\n",
    "`input_clock()` ingresa una cadena que representa las armas efectivas durante el transcurso del juego. \n",
    "    \n",
    "* `legal_select()` se usa para validación de entrada;\n",
    "\n",
    "`rand_clock(n)` genera una cadena de $n$ caracteres (seed: 1997) de la lista `weapons`, que representa las armas efectivas durante el transcurso de juego.\n",
    "\n",
    "`game_state(a, b)` compara el puntaje de dos equipos a y b (class: int) y regresa un estado de la siguiente forma: `\"F\"` si el puntaje del equipo 1 es mayor al del equipo 2, `\"V\"` si es menor, o `\"≈\"` si ambos puntajes son iguales. \n",
    "\n",
    "`match(mode = None)` itera a través de una lista de caracteres (definidos por el usuario o aleatorio) y genera un informe de puntajes usando `game_state()` en cada punto de reloj. La estructura del programa será la siguiente: \n",
    "\n",
    "* definir 2 variables `team1_score`, y `team2_score`, que representan los valores de puntuación de cada equipo, ambos empiezan en `0`; \n",
    "\n",
    "* definir una cadena vacía en donde se almacenarán los valores de salida \"output\"\n",
    "\n",
    "* ingresar usa selección de armas para `team1` usando `get_weapon()`\n",
    "\n",
    "* ingresar usa selección de armas para `team2` usando `get_weapon()`\n",
    "\n",
    "* almacenar una cadena `clock` usando `input_clock()`, o `rand_clock()` solo si el argumento `mode` se especifíca como `\"random\"`\n",
    "\n",
    "* crear una lista `clock_list` con todos los caracteres en `clock`\n",
    "\n",
    "* Iterar usando un bucle `for` para todos los caracteres en `clock_list`:\n",
    "    \n",
    "    * si el caracter evaluado está presenten en `team1`, incrementar +1 el valor de `team1_score` \n",
    "\n",
    "    * si el caracter evaluado está presenten en `team2`, incrementar +1 el valor de `team2_score` \n",
    "\n",
    "    * luego de cada iteración, verificar el estado actual del juego usando `game_state()`\n",
    "\n",
    "    * finalmente, usar el método `.join()` para insertar el resultado de `current_state()` al final de la cadena `outcome` \n"
   ]
  },
  {
   "cell_type": "markdown",
   "metadata": {},
   "source": [
    "## Let\"s start testing:"
   ]
  },
  {
   "cell_type": "code",
   "execution_count": 14,
   "metadata": {},
   "outputs": [],
   "source": [
    "\n",
    "import unittest\n",
    "from unittest.mock import patch\n",
    "\n",
    "# functions to test\n",
    "# legal_select\n",
    "# legal_lenght\n",
    "# get_weapon\n",
    "# get_clock\n",
    "# rand_clock\n",
    "# report_score\n",
    "# main"
   ]
  },
  {
   "cell_type": "markdown",
   "metadata": {},
   "source": [
    "## Pruebas"
   ]
  },
  {
   "cell_type": "code",
   "execution_count": 15,
   "metadata": {},
   "outputs": [
    {
     "name": "stderr",
     "output_type": "stream",
     "text": [
      "test_all_invalid_characters (__main__.TestCheckSelect.test_all_invalid_characters) ... ok\n",
      "test_all_valid_characters (__main__.TestCheckSelect.test_all_valid_characters) ... ok\n",
      "test_empty_string (__main__.TestCheckSelect.test_empty_string) ... ok\n",
      "test_mixed_case_characters (__main__.TestCheckSelect.test_mixed_case_characters) ... ok\n",
      "test_some_invalid_characters (__main__.TestCheckSelect.test_some_invalid_characters) ... ok\n",
      "test_whitespace_characters (__main__.TestCheckSelect.test_whitespace_characters) ... ok\n",
      "\n",
      "----------------------------------------------------------------------\n",
      "Ran 6 tests in 0.004s\n",
      "\n",
      "OK\n"
     ]
    },
    {
     "data": {
      "text/plain": [
       "<unittest.main.TestProgram at 0x7ca821e808f0>"
      ]
     },
     "execution_count": 15,
     "metadata": {},
     "output_type": "execute_result"
    }
   ],
   "source": [
    "from main import check_select\n",
    "\n",
    "# Pruebas para check_select()\n",
    "class TestCheckSelect(unittest.TestCase):\n",
    "    \n",
    "    def test_all_valid_characters(self):\n",
    "        # Caso: todos los caracteres ingresados están en weapons\n",
    "        self.assertTrue(check_select(\".-*+TMY|WXM\"))\n",
    "\n",
    "    def test_some_invalid_characters(self):\n",
    "        # Caso: algunos caracteres en la cadena no están en weapons\n",
    "        self.assertFalse(check_select(\".-*+ABC|WXM\"))\n",
    "\n",
    "    def test_all_invalid_characters(self):\n",
    "        # Caso: ninguno de los caracteres en la cadena son invalidos\n",
    "        self.assertFalse(check_select(\"ABCDE\"))\n",
    "\n",
    "    def test_empty_string(self):\n",
    "        # Caso: la cadena evaluada está vacía\n",
    "        self.assertTrue(check_select(\"\"))\n",
    "\n",
    "    def test_mixed_case_characters(self):\n",
    "        # Caso: la cadena tiene caracteres válidos con letras minúsculas\n",
    "        self.assertTrue(check_select(\".-+Ty|Wxm\"))\n",
    "\n",
    "    def test_whitespace_characters(self):\n",
    "        # Caso: la cadena contiene caracters válidos y espacios en blanco \n",
    "        self.assertFalse(check_select(\".-*-+ T Y |WXM\"))\n",
    "        \n",
    "unittest.main(argv=[\"\", \"TestCheckSelect\"], verbosity=2, exit=False)"
   ]
  },
  {
   "cell_type": "code",
   "execution_count": 16,
   "metadata": {},
   "outputs": [
    {
     "name": "stderr",
     "output_type": "stream",
     "text": [
      "test_invalid_characters (__main__.TestGetWeapon.test_invalid_characters) ... ok\n",
      "test_invalid_lenght (__main__.TestGetWeapon.test_invalid_lenght) ... ok\n",
      "test_valid_input (__main__.TestGetWeapon.test_valid_input) ... ok\n",
      "\n",
      "----------------------------------------------------------------------\n",
      "Ran 3 tests in 0.004s\n",
      "\n",
      "OK\n"
     ]
    },
    {
     "data": {
      "text/plain": [
       "<unittest.main.TestProgram at 0x7ca821034ec0>"
      ]
     },
     "execution_count": 16,
     "metadata": {},
     "output_type": "execute_result"
    }
   ],
   "source": [
    "from main import get_weapon\n",
    "\n",
    "# Pruebas para get_weapon()\n",
    "class TestGetWeapon(unittest.TestCase):\n",
    "    \n",
    "    def test_valid_input(self):\n",
    "    # Caso: La cadena insertada tiene 6 caracteres válidos \n",
    "        with unittest.mock.patch(\"builtins.input\", return_value=\"*-*T.W\") as mock_input:\n",
    "            self.assertEqual(get_weapon(), \"*-*T.W\")\n",
    "    \n",
    "    def test_invalid_lenght(self):\n",
    "    # Caso: La cadena tiene una longitud diferente a la específicada\n",
    "        with unittest.mock.patch(\"builtins.input\", side_effect = [\"\", \"ABC\", \"abcdefg\"]):\n",
    "            with unittest.mock.patch(\"builtins.print\") as mock_print:\n",
    "                get_weapon()\n",
    "                # Verificar que print se invoca en cada ocasión\n",
    "                self.assertEqual(mock_print.call_count, 4)\n",
    "                \n",
    "    def test_invalid_characters(self):\n",
    "    # Caso: La cadena tiene uno o más caracteres inválidos\n",
    "        with unittest.mock.patch(\"builtins.input\", side_effect = [\"AABBCC\", \"..AA..\", \".....A\"]):\n",
    "            with unittest.mock.patch(\"builtins.print\") as mock_print:\n",
    "                get_weapon()\n",
    "                # Verificar que print se invoca en cada ocasión\n",
    "                self.assertEqual(mock_print.call_count, 4)        \n",
    "\n",
    "unittest.main(argv=[\"\", \"TestGetWeapon\"], verbosity=2, exit=False)      "
   ]
  },
  {
   "cell_type": "code",
   "execution_count": 17,
   "metadata": {},
   "outputs": [
    {
     "name": "stderr",
     "output_type": "stream",
     "text": [
      "test_invalid_characters (__main__.TestGetWeapon.test_invalid_characters) ... ok\n",
      "test_invalid_lenght (__main__.TestGetWeapon.test_invalid_lenght) ... ok\n",
      "test_valid_input (__main__.TestGetWeapon.test_valid_input) ... ok\n",
      "\n",
      "----------------------------------------------------------------------\n",
      "Ran 3 tests in 0.003s\n",
      "\n",
      "OK\n"
     ]
    }
   ],
   "source": [
    "## There\"s an issue while trying to import numpy to Jupyter notebooks\n",
    "# Please see this test in `test.main.py`\n",
    "\n",
    "import numpy as np\n",
    "from main import rand_clock, weapons\n",
    "from scipy.stats import chisquare\n",
    "\n",
    "# weapons = [\".\", \"-\", \"+\", \"*\", \"T\", \"Y\", \"|\", \"W\", \"X\", \"M\"]\n",
    "\n",
    "# Pruebas para rand_clock()\n",
    "class TestRandClock(unittest.TestCase):\n",
    "    \n",
    "    # Evaluar si la longitud de la cadena coincide con el parámetro especificado\n",
    "    def test_lenght_(self):\n",
    "        times = 20\n",
    "        result = rand_clock(times)\n",
    "        self.assertEqual(len(result), times)\n",
    "        \n",
    "    # Evaluar si todos los caracteres generados son válidos\n",
    "    def test_validity(self):\n",
    "        result = rand_clock(100)\n",
    "        for character in result:\n",
    "            self.assertIn(character, weapons)\n",
    "    \n",
    "    def test_character_distribution(self):\n",
    "    # Evaluar la aleatoriedad a partir de la distribución de caracteres en una muestra aleatoria\n",
    "        \n",
    "        # generar una muestra de 100 caracteres\n",
    "        sample = rand_clock(100)\n",
    "        print(sample)\n",
    "        \n",
    "        # contar la frecuencia de cada caracter en la cadena generada\n",
    "        char_counts = {char: sample.count(char) for char in set(sample)}\n",
    "        print(char_counts)\n",
    "        \n",
    "        # calcular la frecuencia esperada asumiendo una distrubución uniforme\n",
    "        expected_fq = len(sample) / len(char_counts)\n",
    "        print(f\"expected frequency: {expected_fq}\")\n",
    "        \n",
    "        # calcular las frecuencias observadas y esperadas\n",
    "        observed_fq = np.array(list(char_counts.values()))\n",
    "        expected_fq_array = np.full_like(observed_fq, expected_fq)\n",
    "        print(observed_fq)\n",
    "        print(expected_fq_array)\n",
    "                \n",
    "        # Realizar la prueba Chi-cuadrado\n",
    "        chi2_statistic, p_value = chisquare(observed_fq, f_exp=expected_fq_array)\n",
    "        print(p_value, chi2_statistic)\n",
    "        \n",
    "        # Evaluar la significancia del p-valor por encima de 0.05\n",
    "        self.assertGreater(p_value, 0.05)\n",
    "        \n",
    "    unittest.main(argv=[\"\", \"TestGetWeapon\"], verbosity=2, exit=False)      "
   ]
  },
  {
   "cell_type": "code",
   "execution_count": 18,
   "metadata": {},
   "outputs": [
    {
     "name": "stderr",
     "output_type": "stream",
     "text": [
      "test_invalid_input_then_valid_again (__main__.TestGetClock.test_invalid_input_then_valid_again) ... ok\n",
      "test_valid_input (__main__.TestGetClock.test_valid_input) ... ok\n",
      "\n",
      "----------------------------------------------------------------------\n",
      "Ran 2 tests in 0.002s\n",
      "\n",
      "OK\n"
     ]
    },
    {
     "name": "stdout",
     "output_type": "stream",
     "text": [
      "Selección inválida, por favor intenta nuevamente.\n",
      "Selección inválida, por favor intenta nuevamente.\n"
     ]
    },
    {
     "data": {
      "text/plain": [
       "<unittest.main.TestProgram at 0x7ca820fe61e0>"
      ]
     },
     "execution_count": 18,
     "metadata": {},
     "output_type": "execute_result"
    }
   ],
   "source": [
    "from main import get_clock\n",
    "\n",
    "# Pruebas para get_clock()\n",
    "class TestGetClock(unittest.TestCase):\n",
    "    @patch(\"builtins.input\", side_effect=[\".*-T.W\", \"ABCD\", \"-+*TY|WXM\"])\n",
    "    def test_valid_input(self, mock_input):\n",
    "        # Caso: todas las entradas son válidas\n",
    "        self.assertEqual(get_clock(), \".*-T.W\")\n",
    "    \n",
    "    # For some reason, using an empty string to start lead to a test error\n",
    "    # I continue researching on this error\n",
    "    # @patch(\"builtins.input\", side_effect=[\"\", \"12345\", \"+-*ABC\", \".*-T.W\"])\n",
    "    # def test_invalid_input_then_valid(self, mock_input):\n",
    "    #     # Caso: Entradas invalidas seguidas de una entrada válida\n",
    "    #     self.assertEqual(get_clock(), \".*-T.W\")\n",
    "\n",
    "    @patch(\"builtins.input\", side_effect=[\"abcdef\", \"xyz123\", \"-+*TY|WXM\"])\n",
    "    def test_invalid_input_then_valid_again(self, mock_input):\n",
    "        # Caso: Entradas inválidas seguidas de una entrada válida\n",
    "        self.assertEqual(get_clock(), \"-+*TY|WXM\")\n",
    "\n",
    "unittest.main(argv=[\"\", \"TestGetClock\"], verbosity=2, exit=False)"
   ]
  },
  {
   "cell_type": "code",
   "execution_count": 19,
   "metadata": {},
   "outputs": [
    {
     "name": "stderr",
     "output_type": "stream",
     "text": [
      "test_a_greater_than_b (__main__.TestReportScore.test_a_greater_than_b) ... ok\n",
      "test_scores_are_equal (__main__.TestReportScore.test_scores_are_equal) ... ok\n",
      "\n",
      "----------------------------------------------------------------------\n",
      "Ran 2 tests in 0.002s\n",
      "\n",
      "OK\n"
     ]
    },
    {
     "data": {
      "text/plain": [
       "<unittest.main.TestProgram at 0x7ca8210340b0>"
      ]
     },
     "execution_count": 19,
     "metadata": {},
     "output_type": "execute_result"
    }
   ],
   "source": [
    "from main import report_score\n",
    "\n",
    "class TestReportScore(unittest.TestCase):\n",
    "    def test_scores_are_equal(self):\n",
    "        # Caso: puntajes son iguales\n",
    "        self.assertEqual(report_score(10, 10), \"≈\")\n",
    "    \n",
    "    def test_a_greater_than_b(self):\n",
    "        # Caso: puntaje a es mayor que b\n",
    "        self.assertEqual(report_score(10, 8), \"F\")\n",
    "\n",
    "    def test_a_greater_than_b(self):\n",
    "        # Caso: puntaje a es menor que b\n",
    "        self.assertEqual(report_score(8, 10), \"V\")\n",
    "unittest.main(argv=[\"\", \"TestReportScore\"], verbosity=2, exit=False)"
   ]
  },
  {
   "cell_type": "markdown",
   "metadata": {},
   "source": [
    "### La hora de la verdad\n",
    "\n",
    "Vamos a probar las entradas de ejemplo, y validar que la cadena resultante sea igual al resultado esperado; \n",
    "\n",
    "| **Input**                                                       | **Expected output**              |\n",
    "|-----------------------------------------------------------------|----------------------------------|\n",
    "| `+XMY*\\|`<br>`+XWY.-`<br>`WWX.-.+M-M\\|\\|+..+XM\\|XM`             | `FFFFFFFFFFFFFFFFFFFFF`          |\n",
    "| `+Y.X-\\|`<br>`WMT*\\|-`<br>`\\|*Y+-*\\|-\\|Y-X\\|+\\|YM-*T+-X-**W-XY` | `≈F≈VV≈≈≈≈VVVVVVVVVVVVVVVVV≈≈VV` |\n",
    "| `MX.+T`<br>`+TX-W`<br>`M-+.\\|M*++*Y-W+\\|M-\\|YXW.`               | `V≈≈VVVVVVVVV≈≈≈V≈≈≈≈F≈`         |\n",
    "| `MX.+T`<br>`+TX-W`<br>`M-+.\\|M*++*Y-W+\\|M-\\|YXW.`               | `V≈≈VVVVVVVVV≈≈≈V≈≈≈≈F≈`         |\n",
    "| `*W+\\|.`<br>`-+TXY`<br>`XW*\\|M+T*YXW+X*.+MW*\\|`                 | `F≈VVVVVVV≈VV≈VVVVVVV`           |\n",
    "\n"
   ]
  },
  {
   "cell_type": "code",
   "execution_count": 24,
   "metadata": {},
   "outputs": [
    {
     "name": "stderr",
     "output_type": "stream",
     "text": [
      "test_scenario_1 (__main__.TestMainFunction.test_scenario_1) ... FAIL\n",
      "test_scenario_2 (__main__.TestMainFunction.test_scenario_2) ... FAIL\n",
      "\n",
      "======================================================================\n",
      "FAIL: test_scenario_1 (__main__.TestMainFunction.test_scenario_1)\n",
      "----------------------------------------------------------------------\n",
      "Traceback (most recent call last):\n",
      "  File \"/home/fcortesbio/anaconda3/envs/pixel/lib/python3.12/unittest/mock.py\", line 1387, in patched\n",
      "    return func(*newargs, **newkeywargs)\n",
      "           ^^^^^^^^^^^^^^^^^^^^^^^^^^^^^\n",
      "  File \"/tmp/ipykernel_61674/487985167.py\", line 7, in test_scenario_1\n",
      "    self.assertEqual(main(), expected_output)\n",
      "AssertionError: 'VVVVVVVVVVVVVVVVVVVVV' != 'FFFFFFFFFFFFFFFFFFFFF'\n",
      "- VVVVVVVVVVVVVVVVVVVVV\n",
      "+ FFFFFFFFFFFFFFFFFFFFF\n",
      "\n",
      "\n",
      "======================================================================\n",
      "FAIL: test_scenario_2 (__main__.TestMainFunction.test_scenario_2)\n",
      "----------------------------------------------------------------------\n",
      "Traceback (most recent call last):\n",
      "  File \"/home/fcortesbio/anaconda3/envs/pixel/lib/python3.12/unittest/mock.py\", line 1387, in patched\n",
      "    return func(*newargs, **newkeywargs)\n",
      "           ^^^^^^^^^^^^^^^^^^^^^^^^^^^^^\n",
      "  File \"/tmp/ipykernel_61674/487985167.py\", line 12, in test_scenario_2\n",
      "    self.assertEqual(main(), expected_output)\n",
      "AssertionError: 'VVVVVVVVVVVVVVVVVVVVVVVVVVVVVV' != '≈F≈VV≈≈≈≈VVVVVVVVVVVVVVVVV≈≈VV'\n",
      "- VVVVVVVVVVVVVVVVVVVVVVVVVVVVVV\n",
      "+ ≈F≈VV≈≈≈≈VVVVVVVVVVVVVVVVV≈≈VV\n",
      "\n",
      "\n",
      "----------------------------------------------------------------------\n",
      "Ran 2 tests in 0.003s\n",
      "\n",
      "FAILED (failures=2)\n"
     ]
    },
    {
     "name": "stdout",
     "output_type": "stream",
     "text": [
      "Selecciona las armas para el Equipo 1\n",
      "Selecciona las armas para el Equipo 2\n",
      "Selecciona las armas para el Equipo 1\n",
      "Selecciona las armas para el Equipo 2\n"
     ]
    },
    {
     "data": {
      "text/plain": [
       "<unittest.main.TestProgram at 0x7ca821044860>"
      ]
     },
     "execution_count": 24,
     "metadata": {},
     "output_type": "execute_result"
    }
   ],
   "source": [
    "from main import main\n",
    "\n",
    "class TestMainFunction(unittest.TestCase):\n",
    "    @patch(\"builtins.input\", side_effect=[\"+XMY*|\", \"+XWY.-\", \"WWX.-.+M-M||+..+XM|XM\"])\n",
    "    def test_scenario_1(self, mock_input):\n",
    "        expected_output = \"FFFFFFFFFFFFFFFFFFFFF\"\n",
    "        self.assertEqual(main(), expected_output)\n",
    "\n",
    "    @patch(\"builtins.input\", side_effect=[\"+Y.X-|\", \"WMT*|-\", \"|*Y+-*|-|Y-X|+|YM-*T+-X-**W-XY\"])\n",
    "    def test_scenario_2(self, mock_input):\n",
    "        expected_output = \"≈F≈VV≈≈≈≈VVVVVVVVVVVVVVVVV≈≈VV\"\n",
    "        self.assertEqual(main(), expected_output)\n",
    "\n",
    "unittest.main(argv=[\"\", \"TestMainFunction\"], verbosity=2, exit=False)"
   ]
  },
  {
   "cell_type": "code",
   "execution_count": 21,
   "metadata": {},
   "outputs": [
    {
     "name": "stdout",
     "output_type": "stream",
     "text": [
      "0 1 V\n",
      "1 1 ≈\n",
      "2 1 F\n",
      "2 2 ≈\n",
      "3 2 F\n",
      "3 3 ≈\n",
      "3 4 V\n",
      "4 4 ≈\n",
      "4 5 V\n",
      "5 5 ≈\n",
      "5 6 V\n",
      "6 6 ≈\n",
      "6 7 V\n",
      "7 7 ≈\n",
      "7 8 V\n",
      "7 9 V\n",
      "V≈F≈F≈V≈V≈V≈V≈VV\n"
     ]
    }
   ],
   "source": [
    "word = \"0110100101010100\"\n",
    "team1_selection = \"1\"\n",
    "team2_selection = \"0\"\n",
    "\n",
    "def report_score(a, b):\n",
    "    return \"≈\" if a == b else (\"F\" if a > b else \"V\") \n",
    "\n",
    "score1 = score2 = 0\n",
    "\n",
    "output = []\n",
    "\n",
    "for letter in word: \n",
    "    if letter in team1_selection:\n",
    "        score1 += 1\n",
    "    if letter in team2_selection:\n",
    "        score2 += 1\n",
    "    output.append(report_score(score1, score2))\n",
    "    string = \"\".join([letter for letter in output]) \n",
    "    print(score1, score2, string[-1])\n",
    "    \n",
    "print(string)\n"
   ]
  },
  {
   "cell_type": "code",
   "execution_count": 22,
   "metadata": {},
   "outputs": [
    {
     "name": "stdout",
     "output_type": "stream",
     "text": [
      "False\n"
     ]
    }
   ],
   "source": [
    "weapons = \".-+*TY|WXM\"\n",
    "def legal_select(string: str)-> bool:\n",
    "    \"\"\" Returns True if all characters in string belongs to weapons \"\"\"\n",
    "    return all(letter.upper() in weapons for letter in string)\n",
    "\n",
    "    \n",
    "print(legal_select(\"AAAAAAA\"))\n"
   ]
  },
  {
   "cell_type": "code",
   "execution_count": 23,
   "metadata": {},
   "outputs": [
    {
     "ename": "TypeError",
     "evalue": "'list' object is not callable",
     "output_type": "error",
     "traceback": [
      "\u001b[0;31m---------------------------------------------------------------------------\u001b[0m",
      "\u001b[0;31mTypeError\u001b[0m                                 Traceback (most recent call last)",
      "Cell \u001b[0;32mIn[23], line 2\u001b[0m\n\u001b[1;32m      1\u001b[0m \u001b[38;5;28;01mimport\u001b[39;00m \u001b[38;5;21;01mrandom\u001b[39;00m\n\u001b[0;32m----> 2\u001b[0m word \u001b[38;5;241m=\u001b[39m \u001b[38;5;28;43mlist\u001b[39;49m\u001b[43m(\u001b[49m\u001b[38;5;124;43m\"\u001b[39;49m\u001b[38;5;124;43mUNCOPYRIGHTABLE\u001b[39;49m\u001b[38;5;124;43m\"\u001b[39;49m\u001b[43m)\u001b[49m\n\u001b[1;32m      3\u001b[0m seed \u001b[38;5;241m=\u001b[39m \u001b[38;5;241m1997\u001b[39m\n\u001b[1;32m      4\u001b[0m letter \u001b[38;5;241m=\u001b[39m random\u001b[38;5;241m.\u001b[39mchoice(word)\n",
      "\u001b[0;31mTypeError\u001b[0m: 'list' object is not callable"
     ]
    }
   ],
   "source": [
    "import random\n",
    "word = list(\"UNCOPYRIGHTABLE\")\n",
    "seed = 1997\n",
    "letter = random.choice(word)\n",
    "print(letter)\n",
    "\n",
    "def rand_clock(times: int)->str:\n",
    "    return \"\".join([random.choice(word) for _ in range(times)])\n",
    "print(rand_clock(25))"
   ]
  },
  {
   "cell_type": "code",
   "execution_count": null,
   "metadata": {},
   "outputs": [],
   "source": [
    "list = []\n",
    "list.append([rand_clock(5) for _ in range(100)])\n",
    "\n",
    "print(list)"
   ]
  }
 ],
 "metadata": {
  "kernelspec": {
   "display_name": "pixel",
   "language": "python",
   "name": "python3"
  },
  "language_info": {
   "codemirror_mode": {
    "name": "ipython",
    "version": 3
   },
   "file_extension": ".py",
   "mimetype": "text/x-python",
   "name": "python",
   "nbconvert_exporter": "python",
   "pygments_lexer": "ipython3",
   "version": "3.12.2"
  }
 },
 "nbformat": 4,
 "nbformat_minor": 2
}
