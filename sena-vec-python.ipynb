{
 "cells": [
  {
   "cell_type": "markdown",
   "metadata": {},
   "source": [
    "# Variables y Estructuras de Control en Python"
   ]
  },
  {
   "cell_type": "markdown",
   "metadata": {},
   "source": [
    "## Términos asociados al tipo de datos\n",
    "\n",
    "* Python es un lenguaje con alta demanda en el mercado laboral\n",
    "* Multipropósito: usado en diseño web, videojuegos, software científico, visualización de datos, etc.\n",
    "* Creado a finales de 1989 por Guido van Rossum.\n",
    "* Interpretado, libre, de código abierto, multiparadigma\n",
    "* Diseñado para ser fácil de leer y escribir, aprender, enseñar e implementar"
   ]
  },
  {
   "cell_type": "markdown",
   "metadata": {},
   "source": [
    "### Proceso de instalación de Python\n",
    "\n",
    "#### Sistemas ** Linux / Unix **  \n",
    "\n",
    "1. Actualizar gestor de paquetes: \n",
    "\n",
    "Antes de instalar Python, es recomendable actualizar el gestor de paquetes y los repositorios del sistema. Abre una terminal y ejecuta el siguiente comando: \n",
    "\n",
    "`sudo apt update`\n",
    "\n",
    "2. Instalar Python\n",
    "\n",
    "Python generalmente viene preinstalado en las versiones más recientes de Ubuntu, pero para asegurarte de tener la última versión, ejecuta:  \n",
    "\n",
    "`sudo apt install python3`\n",
    "\n",
    "Esto instalará **Python 3**, que es la versión más comunmente utilizada. \n",
    "\n",
    "3. Verificar la instalación: \n",
    "\n",
    "Una vez completada la instalación, puedes usarlo para verificar que Python se haya instalado correctamente escribiendo en la terminal: \n",
    "\n",
    "`python3 --version` \n",
    "\n",
    "Esto debería mostrar la versión de Python 3 que has instalado.\n",
    "\n",
    "4. Instalar pip (opcional)\n",
    "\n",
    "Si planeas instalar paquetes de Python adicionales, es posible que desees instalar **pip**, el gestor de paquetes de Python. Puedes hacero ejecutando el siguiente comando: \n",
    "\n",
    "`sudo apt install python3-pip`\n",
    "\n"
   ]
  },
  {
   "cell_type": "markdown",
   "metadata": {
    "vscode": {
     "languageId": "plaintext"
    }
   },
   "source": []
  },
  {
   "cell_type": "markdown",
   "metadata": {},
   "source": []
  }
 ],
 "metadata": {
  "language_info": {
   "name": "python"
  }
 },
 "nbformat": 4,
 "nbformat_minor": 2
}
